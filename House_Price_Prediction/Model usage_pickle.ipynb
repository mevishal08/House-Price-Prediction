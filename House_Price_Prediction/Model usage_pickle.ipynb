{
 "cells": [
  {
   "cell_type": "code",
   "execution_count": 3,
   "id": "b6483407",
   "metadata": {},
   "outputs": [],
   "source": [
    "import pickle"
   ]
  },
  {
   "cell_type": "code",
   "execution_count": 4,
   "id": "842569f1",
   "metadata": {},
   "outputs": [],
   "source": [
    "my_model = pickle.load(open(\"model_depl.pkl\" , 'rb'))"
   ]
  },
  {
   "cell_type": "code",
   "execution_count": 5,
   "id": "e2718811",
   "metadata": {},
   "outputs": [
    {
     "data": {
      "text/plain": [
       "array([24.527])"
      ]
     },
     "execution_count": 5,
     "metadata": {},
     "output_type": "execute_result"
    }
   ],
   "source": [
    "my_model.predict([[-5.43942006, 4.12628155, -1.6165014, -0.67288841, -1.42262747,\n",
    "        -11.44443979304, -49.31238772,  7.61111401, -26.0016879 , -0.5778192 ,\n",
    "        -0.97491834,  0.41164221, -66.86091034]])"
   ]
  },
  {
   "cell_type": "code",
   "execution_count": null,
   "id": "c41a7d1f",
   "metadata": {},
   "outputs": [],
   "source": []
  }
 ],
 "metadata": {
  "kernelspec": {
   "display_name": "Python 3 (ipykernel)",
   "language": "python",
   "name": "python3"
  },
  "language_info": {
   "codemirror_mode": {
    "name": "ipython",
    "version": 3
   },
   "file_extension": ".py",
   "mimetype": "text/x-python",
   "name": "python",
   "nbconvert_exporter": "python",
   "pygments_lexer": "ipython3",
   "version": "3.9.12"
  }
 },
 "nbformat": 4,
 "nbformat_minor": 5
}
